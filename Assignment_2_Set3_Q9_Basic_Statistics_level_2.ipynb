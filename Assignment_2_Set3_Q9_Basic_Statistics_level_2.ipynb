{
  "nbformat": 4,
  "nbformat_minor": 0,
  "metadata": {
    "colab": {
      "name": "Assignment-2-Set3-Q9-Basic Statistics level 2.ipynb",
      "provenance": [],
      "collapsed_sections": [],
      "authorship_tag": "ABX9TyNkEaqeKLb1+6VbDUGDu1c2",
      "include_colab_link": true
    },
    "kernelspec": {
      "name": "python3",
      "display_name": "Python 3"
    },
    "language_info": {
      "name": "python"
    }
  },
  "cells": [
    {
      "cell_type": "markdown",
      "metadata": {
        "id": "view-in-github",
        "colab_type": "text"
      },
      "source": [
        "<a href=\"https://colab.research.google.com/github/RiteshopShrivastava/Assignment-2-Set3-Q8-Q9-Basic-Statistics-level-2/blob/main/Assignment_2_Set3_Q9_Basic_Statistics_level_2.ipynb\" target=\"_parent\"><img src=\"https://colab.research.google.com/assets/colab-badge.svg\" alt=\"Open In Colab\"/></a>"
      ]
    },
    {
      "cell_type": "markdown",
      "metadata": {
        "id": "d2sdyIYFsHB5"
      },
      "source": [
        "To prepare a report on the economy, analysts need to estimate the percentage of businesses that plan to hire additional employees in the next 60 days.Answer below questions.....\n",
        "\n"
      ]
    },
    {
      "cell_type": "code",
      "metadata": {
        "ExecuteTime": {
          "end_time": "2020-11-23T06:27:40.214846Z",
          "start_time": "2020-11-23T06:27:39.802500Z"
        },
        "id": "x3R_6D1HBirl"
      },
      "source": [
        "from scipy import stats\n",
        "import pandas as pd\n",
        "import numpy as np\n"
      ],
      "execution_count": 1,
      "outputs": []
    },
    {
      "cell_type": "markdown",
      "metadata": {
        "id": "t0l14_bJwTRL"
      },
      "source": [
        "n= (z sqaure * pq)/ ME square,\n",
        "\n",
        "drived from confidence interval formula\n",
        "\n",
        "pq (equal to 'sigma square') is used when sigma is not avialable"
      ]
    },
    {
      "cell_type": "code",
      "metadata": {
        "id": "3x1PcZ5TweW0"
      },
      "source": [
        ""
      ],
      "execution_count": null,
      "outputs": []
    },
    {
      "cell_type": "markdown",
      "metadata": {
        "id": "RaEctSIlsOCr"
      },
      "source": [
        "Q8. How many randomly selected employers (minimum number) must we contact in order to guarantee a margin of error of no more than 4% (at 95% confidence)?"
      ]
    },
    {
      "cell_type": "code",
      "metadata": {
        "ExecuteTime": {
          "end_time": "2020-10-06T02:58:01.552918Z",
          "start_time": "2020-10-06T02:58:01.543941Z"
        },
        "colab": {
          "base_uri": "https://localhost:8080/"
        },
        "id": "ypuiVB3KBiru",
        "outputId": "46b5f382-ba9a-42b7-f552-c6af56451c0f"
      },
      "source": [
        "stats.norm.ppf(0.975) # calculating Z scores at 95% confidence"
      ],
      "execution_count": null,
      "outputs": [
        {
          "output_type": "execute_result",
          "data": {
            "text/plain": [
              "1.959963984540054"
            ]
          },
          "metadata": {
            "tags": []
          },
          "execution_count": 15
        }
      ]
    },
    {
      "cell_type": "code",
      "metadata": {
        "colab": {
          "base_uri": "https://localhost:8080/"
        },
        "id": "QxyJpQESoymG",
        "outputId": "4d28bb93-2453-4062-a0a3-650f5f23cbf7"
      },
      "source": [
        "#n= (z sqaure * pq)/ ME square, # drived from confidence interval formula (pq (equal to 'sigma square') is used when sigma is not avialable)\n",
        "\n",
        "# Z scores at 95% confidence is 1.96,population portion  P=.5 (assume), Q=(1-P), Margin of Error ME = 4% i.e 0.04\n",
        "(np.square(1.96)*np.square(0.5))/np.square(0.04)"
      ],
      "execution_count": null,
      "outputs": [
        {
          "output_type": "execute_result",
          "data": {
            "text/plain": [
              "600.2499999999999"
            ]
          },
          "metadata": {
            "tags": []
          },
          "execution_count": 10
        }
      ]
    },
    {
      "cell_type": "markdown",
      "metadata": {
        "id": "psZJeFiwsUlL"
      },
      "source": [
        "Q9.\tSuppose we want the above margin of error to be based on a 98% confidence level. What sample size (minimum) must we now use?"
      ]
    },
    {
      "cell_type": "code",
      "metadata": {
        "colab": {
          "base_uri": "https://localhost:8080/"
        },
        "id": "FnQwGwgVoJ-l",
        "outputId": "afacd190-cf36-4b0b-bf0c-9aba00d6cbcb"
      },
      "source": [
        "stats.norm.ppf(0.99) # calculating Z scores at 98% confidence"
      ],
      "execution_count": null,
      "outputs": [
        {
          "output_type": "execute_result",
          "data": {
            "text/plain": [
              "2.3263478740408408"
            ]
          },
          "metadata": {
            "tags": []
          },
          "execution_count": 2
        }
      ]
    },
    {
      "cell_type": "code",
      "metadata": {
        "colab": {
          "base_uri": "https://localhost:8080/"
        },
        "id": "Rmeb5q4eoyn3",
        "outputId": "493e9b78-c8db-49e5-f468-d193c0a31896"
      },
      "source": [
        "# Z scores at 98% confidence is 2.33, P=.5, Q=(1-P), ME = 4% i.e 0.04\n",
        "(np.square(2.33)*np.square(0.5))/np.square(0.04)"
      ],
      "execution_count": null,
      "outputs": [
        {
          "output_type": "execute_result",
          "data": {
            "text/plain": [
              "848.265625"
            ]
          },
          "metadata": {
            "tags": []
          },
          "execution_count": 11
        }
      ]
    }
  ]
}